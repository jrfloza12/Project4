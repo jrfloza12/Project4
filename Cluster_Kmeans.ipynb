{
 "cells": [
  {
   "cell_type": "code",
   "execution_count": 5,
   "metadata": {},
   "outputs": [],
   "source": [
    "import pandas as pd\n",
    "import numpy as np\n",
    "from sklearn.preprocessing import StandardScaler\n",
    "from sklearn.cluster import KMeans\n",
    "import matplotlib.pyplot as plt"
   ]
  },
  {
   "cell_type": "code",
   "execution_count": 7,
   "metadata": {},
   "outputs": [
    {
     "name": "stdout",
     "output_type": "stream",
     "text": [
      "                         name    year  rating    votes  Action  Adventure  \\\n",
      "0                  Spider-Man  2018.0     9.2  20759.0    True       True   \n",
      "1      Red Dead Redemption II  2018.0     9.7  35703.0    True       True   \n",
      "2          Grand Theft Auto V  2013.0     9.5  59986.0    True      False   \n",
      "3                  God of War  2018.0     9.6  26118.0    True       True   \n",
      "4  Uncharted 4: A Thief's End  2016.0     9.5  28722.0    True       True   \n",
      "\n",
      "   Comedy  Crime  Family  Fantasy  Mystery  Sci-Fi  Thriller  \n",
      "0   False  False   False     True    False   False     False  \n",
      "1   False   True   False    False    False   False     False  \n",
      "2   False   True   False    False    False   False     False  \n",
      "3   False  False   False    False    False   False     False  \n",
      "4   False  False   False    False    False   False     False  \n"
     ]
    }
   ],
   "source": [
    "Games_df = pd.read_csv('./Data/with_ratingvotes.csv')\n",
    "\n",
    "# Display the first few rows\n",
    "print(Games_df.head())"
   ]
  },
  {
   "cell_type": "code",
   "execution_count": 8,
   "metadata": {},
   "outputs": [],
   "source": [
    "# Select features by removing name\n",
    "features = Games_df.drop('name', axis=1)"
   ]
  },
  {
   "cell_type": "code",
   "execution_count": null,
   "metadata": {},
   "outputs": [],
   "source": [
    "# Convert boolean to intiger \n",
    "for column in features.columns:\n",
    "    if features[column].dtype == bool:\n",
    "        features[column] = features[column].astype(int)"
   ]
  }
 ],
 "metadata": {
  "kernelspec": {
   "display_name": "PythonData",
   "language": "python",
   "name": "python3"
  },
  "language_info": {
   "codemirror_mode": {
    "name": "ipython",
    "version": 3
   },
   "file_extension": ".py",
   "mimetype": "text/x-python",
   "name": "python",
   "nbconvert_exporter": "python",
   "pygments_lexer": "ipython3",
   "version": "3.10.9"
  },
  "orig_nbformat": 4
 },
 "nbformat": 4,
 "nbformat_minor": 2
}
