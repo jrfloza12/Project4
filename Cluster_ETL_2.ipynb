{
 "cells": [
  {
   "cell_type": "code",
   "execution_count": null,
   "metadata": {},
   "outputs": [],
   "source": [
    "import pandas as pd\n",
    "\n",
    "games_df = pd.read_csv('./Data/game_info.csv')\n",
    "# games_df = games_df.drop(games_df.columns[0], axis=1)\n",
    "games_df.head()\n"
   ]
  },
  {
   "cell_type": "code",
   "execution_count": null,
   "metadata": {},
   "outputs": [],
   "source": [
    "# Check what the objects are and where the null values are at\n",
    "print(games_df.dtypes)"
   ]
  },
  {
   "cell_type": "code",
   "execution_count": null,
   "metadata": {},
   "outputs": [],
   "source": [
    "print(games_df.isnull().sum())"
   ]
  },
  {
   "cell_type": "code",
   "execution_count": null,
   "metadata": {},
   "outputs": [],
   "source": [
    "unique_genres = list(games_df['genres'].unique())\n",
    "for i in range(0, len(unique_genres), 6):\n",
    "    print(unique_genres[i:i+6])"
   ]
  },
  {
   "cell_type": "code",
   "execution_count": null,
   "metadata": {},
   "outputs": [],
   "source": [
    "unique_rating = list(games_df['esrb_rating'].unique())\n",
    "print(unique_rating)"
   ]
  },
  {
   "cell_type": "code",
   "execution_count": null,
   "metadata": {},
   "outputs": [],
   "source": [
    "unique_platform = list(games_df['platforms'].unique())\n",
    "for i in range(0, len(unique_platform), 6):\n",
    "    print(unique_platform[i:i+6])"
   ]
  },
  {
   "cell_type": "markdown",
   "metadata": {},
   "source": [
    "## Everything below this text is just example code that was used in the original ETL.  It shows the later steps to create a csv that can be used in the next step."
   ]
  },
  {
   "cell_type": "code",
   "execution_count": null,
   "metadata": {},
   "outputs": [],
   "source": [
    "# Create genreonly_df by selecting 'name' and the genre columns\n",
    "genreonly_df = games_df[['name', 'Action', 'Adventure', 'Comedy', 'Crime', \n",
    "'Family', 'Fantasy', 'Mystery', 'Sci-Fi', 'Thriller']].copy()\n",
    "\n",
    "print(genreonly_df.head())\n",
    "print(genreonly_df.isnull().sum())\n",
    "\n",
    "# Get the number of rows in with_certificate_df\n",
    "num_rows = genreonly_df.shape[0]\n",
    "\n",
    "print(f\"Number of rows in with_certificate_df: {num_rows}\")"
   ]
  },
  {
   "cell_type": "code",
   "execution_count": null,
   "metadata": {},
   "outputs": [],
   "source": [
    "# Check if all nulls in 'year' are in rows where 'certificate' is also null\n",
    "null_year_certificate = games_df[games_df['year'].isnull() & games_df['certificate'].isnull()]\n",
    "\n",
    "print(f\"Number of rows where both 'year' and 'certificate' are null: {len(null_year_certificate)}\")\n"
   ]
  },
  {
   "cell_type": "code",
   "execution_count": null,
   "metadata": {},
   "outputs": [],
   "source": [
    "with_ratingvotes_df.to_csv('./Data/with_ratingvotes.csv', index=False)\n",
    "genreonly_df.to_csv('./Data/genreonly.csv', index=False)\n",
    "with_certificate_df.to_csv('./Data/with_certificate.csv', index=False)"
   ]
  }
 ],
 "metadata": {
  "kernelspec": {
   "display_name": "PythonData",
   "language": "python",
   "name": "python3"
  },
  "language_info": {
   "codemirror_mode": {
    "name": "ipython",
    "version": 3
   },
   "file_extension": ".py",
   "mimetype": "text/x-python",
   "name": "python",
   "nbconvert_exporter": "python",
   "pygments_lexer": "ipython3",
   "version": "3.10.9"
  },
  "orig_nbformat": 4
 },
 "nbformat": 4,
 "nbformat_minor": 2
}
