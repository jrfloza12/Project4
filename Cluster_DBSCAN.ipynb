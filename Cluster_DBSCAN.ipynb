{
 "cells": [
  {
   "cell_type": "code",
   "execution_count": null,
   "metadata": {},
   "outputs": [],
   "source": [
    "import pandas as pd\n",
    "import numpy as np\n",
    "from sklearn.preprocessing import StandardScaler\n",
    "from sklearn.cluster import DBSCAN\n",
    "import matplotlib.pyplot as plt"
   ]
  },
  {
   "cell_type": "code",
   "execution_count": null,
   "metadata": {},
   "outputs": [],
   "source": [
    "Games_df = pd.read_csv('./Data/with_ratingvotes.csv')\n",
    "\n",
    "# Display the first few rows\n",
    "print(Games_df.head())"
   ]
  },
  {
   "cell_type": "code",
   "execution_count": null,
   "metadata": {},
   "outputs": [],
   "source": [
    "# Select only the numerical features\n",
    "numerical_features = Games_df[['year', 'rating', 'votes']]\n",
    "\n",
    "# Scale the numerical features\n",
    "scaler = StandardScaler()\n",
    "scaled_features = scaler.fit_transform(numerical_features)\n",
    "\n",
    "# Replace the original numerical data with the scaled data\n",
    "Games_df[['year', 'rating', 'votes']] = scaled_features\n",
    "\n",
    "print(Games_df.head())"
   ]
  },
  {
   "cell_type": "code",
   "execution_count": null,
   "metadata": {},
   "outputs": [],
   "source": [
    "# Create a DBSCAN model\n",
    "dbscan = DBSCAN(eps=0.5, min_samples=5)\n",
    "\n",
    "# Fit the model to your data\n",
    "dbscan.fit(Games_df.iloc[:, 1:])\n",
    "\n",
    "# Get the cluster labels for each sample\n",
    "labels = dbscan.labels_\n",
    "\n",
    "# Add these labels to your DataFrame\n",
    "Games_df['Cluster'] = labels\n",
    "\n",
    "print(Games_df.head())\n"
   ]
  }
 ],
 "metadata": {
  "kernelspec": {
   "display_name": "PythonData",
   "language": "python",
   "name": "python3"
  },
  "language_info": {
   "name": "python",
   "version": "3.10.9"
  },
  "orig_nbformat": 4
 },
 "nbformat": 4,
 "nbformat_minor": 2
}
