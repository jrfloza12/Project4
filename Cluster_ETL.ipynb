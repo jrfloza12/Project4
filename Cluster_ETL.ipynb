{
 "cells": [
  {
   "cell_type": "code",
   "execution_count": 1,
   "metadata": {},
   "outputs": [
    {
     "name": "stdout",
     "output_type": "stream",
     "text": [
      "                         name  \\\n",
      "0                  Spider-Man   \n",
      "1      Red Dead Redemption II   \n",
      "2          Grand Theft Auto V   \n",
      "3                  God of War   \n",
      "4  Uncharted 4: A Thief's End   \n",
      "\n",
      "                                                 url    year certificate  \\\n",
      "0  https://www.imdb.com/title/tt5807780/?ref_=adv...  2018.0           T   \n",
      "1  https://www.imdb.com/title/tt6161168/?ref_=adv...  2018.0           M   \n",
      "2  https://www.imdb.com/title/tt2103188/?ref_=adv...  2013.0           M   \n",
      "3  https://www.imdb.com/title/tt5838588/?ref_=adv...  2018.0           M   \n",
      "4  https://www.imdb.com/title/tt3334704/?ref_=adv...  2016.0           T   \n",
      "\n",
      "   rating   votes                                               plot  Action  \\\n",
      "0     9.2  20,759  When a new villain threatens New York City, Pe...    True   \n",
      "1     9.7  35,703  Amidst the decline of the Wild West at the tur...    True   \n",
      "2     9.5  59,986  Three very different criminals team up for a s...    True   \n",
      "3     9.6  26,118  After wiping out the gods of Mount Olympus, Kr...    True   \n",
      "4     9.5  28,722  Thrown back into the dangerous underworld he'd...    True   \n",
      "\n",
      "   Adventure  Comedy  Crime  Family  Fantasy  Mystery  Sci-Fi  Thriller  \n",
      "0       True   False  False   False     True    False   False     False  \n",
      "1       True   False   True   False    False    False   False     False  \n",
      "2      False   False   True   False    False    False   False     False  \n",
      "3       True   False  False   False    False    False   False     False  \n",
      "4       True   False  False   False    False    False   False     False  \n"
     ]
    }
   ],
   "source": [
    "import pandas as pd\n",
    "\n",
    "games_df = pd.read_csv('./Data/imdb-videogames.csv')\n",
    "games_df = games_df.drop(games_df.columns[0], axis=1)\n",
    "print(games_df.head())\n"
   ]
  },
  {
   "cell_type": "code",
   "execution_count": 2,
   "metadata": {},
   "outputs": [
    {
     "name": "stdout",
     "output_type": "stream",
     "text": [
      "name            object\n",
      "url             object\n",
      "year           float64\n",
      "certificate     object\n",
      "rating         float64\n",
      "votes           object\n",
      "plot            object\n",
      "Action            bool\n",
      "Adventure         bool\n",
      "Comedy            bool\n",
      "Crime             bool\n",
      "Family            bool\n",
      "Fantasy           bool\n",
      "Mystery           bool\n",
      "Sci-Fi            bool\n",
      "Thriller          bool\n",
      "dtype: object\n",
      "\n",
      "\n",
      "name               0\n",
      "url                0\n",
      "year             267\n",
      "certificate    12900\n",
      "rating          9203\n",
      "votes           9203\n",
      "plot               0\n",
      "Action             0\n",
      "Adventure          0\n",
      "Comedy             0\n",
      "Crime              0\n",
      "Family             0\n",
      "Fantasy            0\n",
      "Mystery            0\n",
      "Sci-Fi             0\n",
      "Thriller           0\n",
      "dtype: int64\n"
     ]
    }
   ],
   "source": [
    "# Check what the objects are and where the null values are at\n",
    "print(games_df.dtypes)\n",
    "print()\n",
    "print()\n",
    "print(games_df.isnull().sum())\n"
   ]
  },
  {
   "cell_type": "code",
   "execution_count": 3,
   "metadata": {},
   "outputs": [
    {
     "name": "stdout",
     "output_type": "stream",
     "text": [
      "name            object\n",
      "url             object\n",
      "year           float64\n",
      "certificate     object\n",
      "rating         float64\n",
      "votes          float64\n",
      "plot            object\n",
      "Action            bool\n",
      "Adventure         bool\n",
      "Comedy            bool\n",
      "Crime             bool\n",
      "Family            bool\n",
      "Fantasy           bool\n",
      "Mystery           bool\n",
      "Sci-Fi            bool\n",
      "Thriller          bool\n",
      "dtype: object\n"
     ]
    }
   ],
   "source": [
    "# Convert 'votes' to numeric, after removing any commas\n",
    "games_df['votes'] = games_df['votes'].str.replace(',', '')\n",
    "games_df['votes'] = pd.to_numeric(games_df['votes'])\n",
    "print(games_df.dtypes)"
   ]
  },
  {
   "cell_type": "markdown",
   "metadata": {},
   "source": [
    "Based off of whats missing we are going to create three new datasets for clustering and at the same time we are removing url and plot from all of them because they are objects/strings and wont do anything for clustering.  We will keep name in all so we can see what games are in the different clusters."
   ]
  },
  {
   "cell_type": "code",
   "execution_count": 4,
   "metadata": {},
   "outputs": [
    {
     "name": "stdout",
     "output_type": "stream",
     "text": [
      "                         name  Action  Adventure  Comedy  Crime  Family  \\\n",
      "0                  Spider-Man    True       True   False  False   False   \n",
      "1      Red Dead Redemption II    True       True   False   True   False   \n",
      "2          Grand Theft Auto V    True      False   False   True   False   \n",
      "3                  God of War    True       True   False  False   False   \n",
      "4  Uncharted 4: A Thief's End    True       True   False  False   False   \n",
      "\n",
      "   Fantasy  Mystery  Sci-Fi  Thriller  \n",
      "0     True    False   False     False  \n",
      "1    False    False   False     False  \n",
      "2    False    False   False     False  \n",
      "3    False    False   False     False  \n",
      "4    False    False   False     False  \n",
      "name         0\n",
      "Action       0\n",
      "Adventure    0\n",
      "Comedy       0\n",
      "Crime        0\n",
      "Family       0\n",
      "Fantasy      0\n",
      "Mystery      0\n",
      "Sci-Fi       0\n",
      "Thriller     0\n",
      "dtype: int64\n",
      "Number of rows in with_certificate_df: 20803\n"
     ]
    }
   ],
   "source": [
    "# Create genreonly_df by selecting 'name' and the genre columns\n",
    "genreonly_df = games_df[['name', 'Action', 'Adventure', 'Comedy', 'Crime', \n",
    "'Family', 'Fantasy', 'Mystery', 'Sci-Fi', 'Thriller']].copy()\n",
    "\n",
    "print(genreonly_df.head())\n",
    "print(genreonly_df.isnull().sum())\n",
    "\n",
    "# Get the number of rows in with_certificate_df\n",
    "num_rows = genreonly_df.shape[0]\n",
    "\n",
    "print(f\"Number of rows in with_certificate_df: {num_rows}\")"
   ]
  },
  {
   "cell_type": "markdown",
   "metadata": {},
   "source": [
    "Here are some of the preliminary things we hope to discover with the unsupervised clustering. <br/>\n",
    "<br/>\n",
    "Clustering only on the genre could be useful for understanding how games group together purely based on genre. You might discover, for example, that certain combinations of genres are particularly common. This can help you identify common trends in video game genres and can provide insights on what combination of genres are popular or less explored in the market."
   ]
  },
  {
   "cell_type": "code",
   "execution_count": 5,
   "metadata": {},
   "outputs": [
    {
     "name": "stdout",
     "output_type": "stream",
     "text": [
      "Number of rows where both 'year' and 'certificate' are null: 247\n"
     ]
    }
   ],
   "source": [
    "# Check if all nulls in 'year' are in rows where 'certificate' is also null\n",
    "null_year_certificate = games_df[games_df['year'].isnull() & games_df['certificate'].isnull()]\n",
    "\n",
    "print(f\"Number of rows where both 'year' and 'certificate' are null: {len(null_year_certificate)}\")\n"
   ]
  },
  {
   "cell_type": "code",
   "execution_count": 6,
   "metadata": {},
   "outputs": [
    {
     "name": "stdout",
     "output_type": "stream",
     "text": [
      "name           0\n",
      "year           0\n",
      "certificate    0\n",
      "rating         0\n",
      "votes          0\n",
      "Action         0\n",
      "Adventure      0\n",
      "Comedy         0\n",
      "Crime          0\n",
      "Family         0\n",
      "Fantasy        0\n",
      "Mystery        0\n",
      "Sci-Fi         0\n",
      "Thriller       0\n",
      "dtype: int64\n",
      "Number of rows in with_certificate_df: 6599\n"
     ]
    }
   ],
   "source": [
    "# next dataframe will be with as many certificates as possible without nulls\n",
    "# Create a new DataFrame with selected columns\n",
    "with_certificate_df = games_df[['name', 'year', 'certificate', 'rating' , 'votes' ,'Action', 'Adventure', \n",
    "'Comedy', 'Crime', 'Family', 'Fantasy', 'Mystery', 'Sci-Fi', 'Thriller']].copy()\n",
    "\n",
    "# Drop the rows with null values in the selected columns\n",
    "with_certificate_df = with_certificate_df.dropna()\n",
    "\n",
    "print(with_certificate_df.isnull().sum())\n",
    "\n",
    "# Get the number of rows in with_certificate_df\n",
    "num_rows = with_certificate_df.shape[0]\n",
    "\n",
    "print(f\"Number of rows in with_certificate_df: {num_rows}\")"
   ]
  },
  {
   "cell_type": "code",
   "execution_count": 7,
   "metadata": {},
   "outputs": [
    {
     "name": "stdout",
     "output_type": "stream",
     "text": [
      "['T' 'M' 'E10+' 'E' 'Unrated' 'AO' 'K-A' 'Not Rated' 'GA' '12' 'TV-14'\n",
      " 'MA-13' 'PG-13' 'EC' 'Approved' 'G' 'MA-17' 'PG' 'CE' 'Passed' 'TV-MA']\n"
     ]
    }
   ],
   "source": [
    "# Finding how may unique certificate catagories are in the dataframe\n",
    "unique_certificates = with_certificate_df['certificate'].unique()\n",
    "print(unique_certificates)"
   ]
  },
  {
   "cell_type": "code",
   "execution_count": 8,
   "metadata": {},
   "outputs": [
    {
     "name": "stdout",
     "output_type": "stream",
     "text": [
      "name         0\n",
      "year         0\n",
      "Action       0\n",
      "Adventure    0\n",
      "Comedy       0\n",
      "Crime        0\n",
      "Family       0\n",
      "Fantasy      0\n",
      "Mystery      0\n",
      "Sci-Fi       0\n",
      "Thriller     0\n",
      "dtype: int64\n",
      "Number of rows in with_year_df: 20536\n"
     ]
    }
   ],
   "source": [
    "# Another df this time add years\n",
    "with_year_df = games_df[['name', 'year', 'Action', 'Adventure', \n",
    "'Comedy', 'Crime', 'Family', 'Fantasy', 'Mystery', 'Sci-Fi', 'Thriller']].copy()\n",
    "\n",
    "# Drop the rows with null values in the selected columns\n",
    "with_year_df = with_year_df.dropna()\n",
    "\n",
    "print(with_year_df.isnull().sum())\n",
    "\n",
    "# Get the number of rows in with_certificate_df\n",
    "num_rows = with_year_df.shape[0]\n",
    "\n",
    "print(f\"Number of rows in with_year_df: {num_rows}\")"
   ]
  },
  {
   "cell_type": "code",
   "execution_count": 9,
   "metadata": {},
   "outputs": [
    {
     "name": "stdout",
     "output_type": "stream",
     "text": [
      "name         0\n",
      "year         0\n",
      "rating       0\n",
      "votes        0\n",
      "Action       0\n",
      "Adventure    0\n",
      "Comedy       0\n",
      "Crime        0\n",
      "Family       0\n",
      "Fantasy      0\n",
      "Mystery      0\n",
      "Sci-Fi       0\n",
      "Thriller     0\n",
      "dtype: int64\n",
      "Number of rows in with_ratingvotes_df: 11599\n",
      "name          object\n",
      "year         float64\n",
      "rating       float64\n",
      "votes        float64\n",
      "Action          bool\n",
      "Adventure       bool\n",
      "Comedy          bool\n",
      "Crime           bool\n",
      "Family          bool\n",
      "Fantasy         bool\n",
      "Mystery         bool\n",
      "Sci-Fi          bool\n",
      "Thriller        bool\n",
      "dtype: object\n"
     ]
    },
    {
     "data": {
      "text/html": [
       "<div>\n",
       "<style scoped>\n",
       "    .dataframe tbody tr th:only-of-type {\n",
       "        vertical-align: middle;\n",
       "    }\n",
       "\n",
       "    .dataframe tbody tr th {\n",
       "        vertical-align: top;\n",
       "    }\n",
       "\n",
       "    .dataframe thead th {\n",
       "        text-align: right;\n",
       "    }\n",
       "</style>\n",
       "<table border=\"1\" class=\"dataframe\">\n",
       "  <thead>\n",
       "    <tr style=\"text-align: right;\">\n",
       "      <th></th>\n",
       "      <th>name</th>\n",
       "      <th>year</th>\n",
       "      <th>rating</th>\n",
       "      <th>votes</th>\n",
       "      <th>Action</th>\n",
       "      <th>Adventure</th>\n",
       "      <th>Comedy</th>\n",
       "      <th>Crime</th>\n",
       "      <th>Family</th>\n",
       "      <th>Fantasy</th>\n",
       "      <th>Mystery</th>\n",
       "      <th>Sci-Fi</th>\n",
       "      <th>Thriller</th>\n",
       "    </tr>\n",
       "  </thead>\n",
       "  <tbody>\n",
       "    <tr>\n",
       "      <th>0</th>\n",
       "      <td>Spider-Man</td>\n",
       "      <td>2018.0</td>\n",
       "      <td>9.2</td>\n",
       "      <td>20759.0</td>\n",
       "      <td>True</td>\n",
       "      <td>True</td>\n",
       "      <td>False</td>\n",
       "      <td>False</td>\n",
       "      <td>False</td>\n",
       "      <td>True</td>\n",
       "      <td>False</td>\n",
       "      <td>False</td>\n",
       "      <td>False</td>\n",
       "    </tr>\n",
       "    <tr>\n",
       "      <th>1</th>\n",
       "      <td>Red Dead Redemption II</td>\n",
       "      <td>2018.0</td>\n",
       "      <td>9.7</td>\n",
       "      <td>35703.0</td>\n",
       "      <td>True</td>\n",
       "      <td>True</td>\n",
       "      <td>False</td>\n",
       "      <td>True</td>\n",
       "      <td>False</td>\n",
       "      <td>False</td>\n",
       "      <td>False</td>\n",
       "      <td>False</td>\n",
       "      <td>False</td>\n",
       "    </tr>\n",
       "    <tr>\n",
       "      <th>2</th>\n",
       "      <td>Grand Theft Auto V</td>\n",
       "      <td>2013.0</td>\n",
       "      <td>9.5</td>\n",
       "      <td>59986.0</td>\n",
       "      <td>True</td>\n",
       "      <td>False</td>\n",
       "      <td>False</td>\n",
       "      <td>True</td>\n",
       "      <td>False</td>\n",
       "      <td>False</td>\n",
       "      <td>False</td>\n",
       "      <td>False</td>\n",
       "      <td>False</td>\n",
       "    </tr>\n",
       "    <tr>\n",
       "      <th>3</th>\n",
       "      <td>God of War</td>\n",
       "      <td>2018.0</td>\n",
       "      <td>9.6</td>\n",
       "      <td>26118.0</td>\n",
       "      <td>True</td>\n",
       "      <td>True</td>\n",
       "      <td>False</td>\n",
       "      <td>False</td>\n",
       "      <td>False</td>\n",
       "      <td>False</td>\n",
       "      <td>False</td>\n",
       "      <td>False</td>\n",
       "      <td>False</td>\n",
       "    </tr>\n",
       "    <tr>\n",
       "      <th>4</th>\n",
       "      <td>Uncharted 4: A Thief's End</td>\n",
       "      <td>2016.0</td>\n",
       "      <td>9.5</td>\n",
       "      <td>28722.0</td>\n",
       "      <td>True</td>\n",
       "      <td>True</td>\n",
       "      <td>False</td>\n",
       "      <td>False</td>\n",
       "      <td>False</td>\n",
       "      <td>False</td>\n",
       "      <td>False</td>\n",
       "      <td>False</td>\n",
       "      <td>False</td>\n",
       "    </tr>\n",
       "  </tbody>\n",
       "</table>\n",
       "</div>"
      ],
      "text/plain": [
       "                         name    year  rating    votes  Action  Adventure  \\\n",
       "0                  Spider-Man  2018.0     9.2  20759.0    True       True   \n",
       "1      Red Dead Redemption II  2018.0     9.7  35703.0    True       True   \n",
       "2          Grand Theft Auto V  2013.0     9.5  59986.0    True      False   \n",
       "3                  God of War  2018.0     9.6  26118.0    True       True   \n",
       "4  Uncharted 4: A Thief's End  2016.0     9.5  28722.0    True       True   \n",
       "\n",
       "   Comedy  Crime  Family  Fantasy  Mystery  Sci-Fi  Thriller  \n",
       "0   False  False   False     True    False   False     False  \n",
       "1   False   True   False    False    False   False     False  \n",
       "2   False   True   False    False    False   False     False  \n",
       "3   False  False   False    False    False   False     False  \n",
       "4   False  False   False    False    False   False     False  "
      ]
     },
     "execution_count": 9,
     "metadata": {},
     "output_type": "execute_result"
    }
   ],
   "source": [
    "# One last df with year rating and vote\n",
    "with_ratingvotes_df = games_df[['name', 'year', 'rating', 'votes', 'Action', 'Adventure', \n",
    "'Comedy', 'Crime', 'Family', 'Fantasy', 'Mystery', 'Sci-Fi', 'Thriller']].copy()\n",
    "\n",
    "# Drop the rows with null values in the selected columns\n",
    "with_ratingvotes_df = with_ratingvotes_df.dropna()\n",
    "\n",
    "print(with_ratingvotes_df.isnull().sum())\n",
    "\n",
    "# Get the number of rows in with_certificate_df\n",
    "num_rows = with_ratingvotes_df.shape[0]\n",
    "\n",
    "print(f\"Number of rows in with_ratingvotes_df: {num_rows}\")\n",
    "print(with_ratingvotes_df.dtypes)\n",
    "with_ratingvotes_df.head()"
   ]
  },
  {
   "cell_type": "markdown",
   "metadata": {},
   "source": [
    "I think \"with_ratingvotes_df\" might be the best for the clustering, at least the first attempt. "
   ]
  },
  {
   "cell_type": "code",
   "execution_count": 10,
   "metadata": {},
   "outputs": [],
   "source": [
    "with_ratingvotes_df.to_csv('./Data/with_ratingvotes.csv', index=False)\n",
    "genreonly_df.to_csv('./Data/genreonly.csv', index=False)\n",
    "with_certificate_df.to_csv('./Data/with_certificate.csv', index=False)"
   ]
  }
 ],
 "metadata": {
  "kernelspec": {
   "display_name": "PythonData",
   "language": "python",
   "name": "python3"
  },
  "language_info": {
   "codemirror_mode": {
    "name": "ipython",
    "version": 3
   },
   "file_extension": ".py",
   "mimetype": "text/x-python",
   "name": "python",
   "nbconvert_exporter": "python",
   "pygments_lexer": "ipython3",
   "version": "3.10.9"
  },
  "orig_nbformat": 4
 },
 "nbformat": 4,
 "nbformat_minor": 2
}
